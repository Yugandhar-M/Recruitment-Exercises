{
 "cells": [
  {
   "cell_type": "markdown",
   "source": [],
   "metadata": {}
  },
  {
   "cell_type": "code",
   "execution_count": 1,
   "source": [
    "import string\r\n",
    "# Cleaning of text here refers to removing Capitalization and Puncutation Inconsistency.\r\n",
    "\r\n",
    "def clean_text(text):\r\n",
    "    \"\"\"\r\n",
    "    Input: Raw text data\r\n",
    "    Output: text data after removing capitals and punctuations \r\n",
    "    \"\"\"\r\n",
    "    for punctuation in list(string.punctuation):\r\n",
    "        text = text.replace(punctuation,\"\")\r\n",
    "    return text.lower()\r\n"
   ],
   "outputs": [],
   "metadata": {}
  },
  {
   "cell_type": "code",
   "execution_count": 2,
   "source": [
    "def profanity_index(text_data,check_list):\r\n",
    "    \"\"\"\r\n",
    "    Input: text data i.e. tweet, string that contains profanity words we defined\r\n",
    "    Output: profanity index defined as the ratio of count of profanity words to total number of words\r\n",
    "    \"\"\"\r\n",
    "    cleaned_data = clean_text(text_data)\r\n",
    "    check_data = check_list.split()\r\n",
    "    count = 0\r\n",
    "    for word in check_data:\r\n",
    "        count += cleaned_data.count(word)\r\n",
    "    return count/len(cleaned_data.split())\r\n"
   ],
   "outputs": [],
   "metadata": {}
  },
  {
   "cell_type": "code",
   "execution_count": 3,
   "source": [
    "\r\n",
    "# main workflow\r\n",
    "def main():\r\n",
    "    txt_file = \"in.txt\"\r\n",
    "    profanity_file = \"profanity_words.txt\"\r\n",
    "\r\n",
    "    p_words = open(profanity_file,\"r\")\r\n",
    "    data = p_words.read()\r\n",
    "\r\n",
    "    file = open(txt_file,\"r\")\r\n",
    "\r\n",
    "    for line in file.readlines():\r\n",
    "        print(profanity_index(line,data))\r\n",
    "        \r\n",
    "main()\r\n",
    "\r\n",
    "    "
   ],
   "outputs": [
    {
     "output_type": "stream",
     "name": "stdout",
     "text": [
      "0.3333333333333333\n",
      "1.0\n"
     ]
    }
   ],
   "metadata": {}
  },
  {
   "cell_type": "markdown",
   "source": [],
   "metadata": {}
  }
 ],
 "metadata": {
  "orig_nbformat": 4,
  "language_info": {
   "name": "python",
   "version": "3.9.7",
   "mimetype": "text/x-python",
   "codemirror_mode": {
    "name": "ipython",
    "version": 3
   },
   "pygments_lexer": "ipython3",
   "nbconvert_exporter": "python",
   "file_extension": ".py"
  },
  "kernelspec": {
   "name": "python3",
   "display_name": "Python 3.9.7 64-bit"
  },
  "interpreter": {
   "hash": "63fd5069d213b44bf678585dea6b12cceca9941eaf7f819626cde1f2670de90d"
  }
 },
 "nbformat": 4,
 "nbformat_minor": 2
}